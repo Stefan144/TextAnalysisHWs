{
 "cells": [
  {
   "cell_type": "markdown",
   "metadata": {},
   "source": [
    "# Задание E &nbsp;&nbsp;&nbsp;&nbsp;&nbsp;&nbsp;&nbsp;&nbsp;&nbsp;&nbsp;&nbsp;&nbsp;&nbsp;&nbsp;&nbsp;&nbsp;&nbsp;&nbsp;&nbsp;&nbsp;&nbsp;&nbsp;&nbsp;&nbsp;&nbsp;&nbsp;&nbsp;&nbsp;&nbsp;&nbsp;&nbsp;&nbsp;&nbsp;&nbsp;&nbsp;&nbsp;&nbsp;&nbsp;&nbsp;&nbsp;&nbsp;&nbsp;&nbsp;&nbsp;&nbsp;&nbsp;&nbsp;&nbsp;&nbsp;&nbsp;&nbsp;&nbsp;&nbsp;&nbsp;&nbsp;&nbsp;&nbsp;&nbsp;&nbsp;&nbsp;&nbsp;&nbsp;&nbsp;&nbsp;&nbsp;&nbsp;&nbsp;&nbsp;&nbsp;&nbsp;&nbsp;&nbsp;&nbsp;&nbsp;&nbsp;&nbsp;&nbsp; Николич Стефан"
   ]
  },
  {
   "cell_type": "markdown",
   "metadata": {},
   "source": [
    "## 1. Открываем текст"
   ]
  },
  {
   "cell_type": "code",
   "execution_count": 178,
   "metadata": {
    "collapsed": true
   },
   "outputs": [],
   "source": [
    "# Открываем текст\n",
    "# Программа работает для любого тескта, необходимо лишь поставить вместо text.txt файл с нужным текстом. В моем\n",
    "# случае тестируемый здесь текст я прикрепил к почте\n",
    "with open('text.txt', 'r') as myfile:\n",
    "    text=myfile.read().replace('\\n', '')"
   ]
  },
  {
   "cell_type": "markdown",
   "metadata": {
    "collapsed": true
   },
   "source": [
    "## 2. Сегментируем текст на словоформы"
   ]
  },
  {
   "cell_type": "code",
   "execution_count": 179,
   "metadata": {
    "collapsed": true
   },
   "outputs": [],
   "source": [
    "# Сегментацию можно проделать разными способами. Например можно заменить все небуквенные символы из текста на\n",
    "# пробелы и поделить текст на словоформы используя пробелы как разделитель. Можно также использовать готовое \n",
    "# решение библиотеки NLTK:\n",
    "# tokens = nltk.word_tokenize(text)\n",
    "# nltk_text = nltk.Text(tokens)\n",
    "# Я попробую первым способом:\n",
    "\n",
    "import re\n",
    "# Регулярное выр-ие на все буквенные символы\n",
    "regex = re.compile('[^а-яА-Я]')\n",
    "# Убираем все не буквенные символы и сегментируем текст на словоформы используя пробелы как разделитель\n",
    "new_text = regex.sub(' ', text).split()\n",
    "# Все буквы в нижний регистр\n",
    "for word_index in range(len(new_text)):\n",
    "    new_text[word_index] = new_text[word_index].lower()"
   ]
  },
  {
   "cell_type": "markdown",
   "metadata": {},
   "source": [
    "## 3. Морфологический анализ словоформ текста"
   ]
  },
  {
   "cell_type": "code",
   "execution_count": 180,
   "metadata": {},
   "outputs": [
    {
     "data": {
      "text/plain": [
       "[Parse(word='убежал', tag=OpencorporaTag('VERB,perf,intr masc,sing,past,indc'), normal_form='убежать', score=1.0, methods_stack=((<DictionaryAnalyzer>, 'убежал', 611, 1),))]"
      ]
     },
     "execution_count": 180,
     "metadata": {},
     "output_type": "execute_result"
    }
   ],
   "source": [
    "# Морфоанализ мы будем проводить с помощью библиотеки pymorphy2. Пример работы библиотеки:\n",
    "import pymorphy2\n",
    "morph = pymorphy2.MorphAnalyzer()\n",
    "morph.parse('убежал')"
   ]
  },
  {
   "cell_type": "markdown",
   "metadata": {
    "collapsed": true
   },
   "source": [
    "## 4. Общестатистические характеристики"
   ]
  },
  {
   "cell_type": "markdown",
   "metadata": {
    "collapsed": true
   },
   "source": [
    "### &nbsp;&nbsp;&nbsp;&nbsp;&nbsp;&nbsp;4.1 Общее число словоупотреблений"
   ]
  },
  {
   "cell_type": "code",
   "execution_count": 181,
   "metadata": {},
   "outputs": [
    {
     "name": "stdout",
     "output_type": "stream",
     "text": [
      "    Общее число словоупотреблений:  156396\n"
     ]
    }
   ],
   "source": [
    "print(\"    Общее число словоупотреблений: \", len(new_text))"
   ]
  },
  {
   "cell_type": "markdown",
   "metadata": {},
   "source": [
    "### &nbsp;&nbsp;&nbsp;&nbsp;&nbsp;&nbsp;4.2 Число различных словоформ"
   ]
  },
  {
   "cell_type": "code",
   "execution_count": 182,
   "metadata": {},
   "outputs": [
    {
     "name": "stdout",
     "output_type": "stream",
     "text": [
      "    Число различных словоформ:  26575\n"
     ]
    }
   ],
   "source": [
    "print(\"    Число различных словоформ: \", len(set(new_text)))"
   ]
  },
  {
   "cell_type": "markdown",
   "metadata": {},
   "source": [
    "### &nbsp;&nbsp;&nbsp;&nbsp;&nbsp;&nbsp;4.3 Средняя длина словоформы"
   ]
  },
  {
   "cell_type": "code",
   "execution_count": 183,
   "metadata": {},
   "outputs": [
    {
     "name": "stdout",
     "output_type": "stream",
     "text": [
      "    Средняя длина словоформы:  5.8\n"
     ]
    }
   ],
   "source": [
    "# Поскольку текст сегментировался на словоформы, а не предложения, то будем считать среднюю длину словоформы\n",
    "avg_word_len = 0\n",
    "for word in new_text:\n",
    "    avg_word_len += len(word)\n",
    "avg_word_len = avg_word_len / len(new_text)\n",
    "\n",
    "# Выводим результат\n",
    "print(\"    Средняя длина словоформы: \", \"%.1f\" % avg_word_len)"
   ]
  },
  {
   "cell_type": "markdown",
   "metadata": {},
   "source": [
    "### &nbsp;&nbsp;&nbsp;&nbsp;&nbsp;&nbsp;4.4 Средняя длина предложения"
   ]
  },
  {
   "cell_type": "code",
   "execution_count": 184,
   "metadata": {},
   "outputs": [
    {
     "name": "stdout",
     "output_type": "stream",
     "text": [
      "    Средняя длина предложения (ПО КОЛ-ВУ СИМВОЛОВ):  164.1\n"
     ]
    }
   ],
   "source": [
    "# Можно подсчитать и среднюю длину предложения. Для этого, используем библиотеку NLTK чтобы сегментировать текст\n",
    "# на предложения. \n",
    "\n",
    "# Сегментируем текст на предложения\n",
    "import nltk\n",
    "from nltk import sent_tokenize\n",
    "tokens = nltk.sent_tokenize(text)\n",
    "sent_text = nltk.Text(tokens)\n",
    "\n",
    "# Теперь считаем среднюю длину предложения\n",
    "avg_sent_len = 0\n",
    "for sentence in sent_text:\n",
    "    avg_sent_len += len(sentence)\n",
    "avg_sent_len = avg_sent_len / len(sent_text)\n",
    "\n",
    "# Выводим результат\n",
    "print(\"    Средняя длина предложения (ПО КОЛ-ВУ СИМВОЛОВ): \", \"%.1f\" % avg_sent_len)"
   ]
  },
  {
   "cell_type": "markdown",
   "metadata": {},
   "source": [
    "## 5. Морфологические характеристики"
   ]
  },
  {
   "cell_type": "markdown",
   "metadata": {},
   "source": [
    "### &nbsp;&nbsp;&nbsp;&nbsp;&nbsp;&nbsp;5.1 Абсолютная частота омонимичных словоформ"
   ]
  },
  {
   "cell_type": "code",
   "execution_count": 185,
   "metadata": {},
   "outputs": [
    {
     "name": "stdout",
     "output_type": "stream",
     "text": [
      "    Абсолютная частота омонимичных словоформ:  101065\n"
     ]
    }
   ],
   "source": [
    "# Омонимия – совпадение по форме разных по смыслу языковых единиц \n",
    "# Таким образом, если наш парсер выдает более чем одну интерпретацию к словоформе\n",
    "# (например, с разными падежами), то будем считать словоформу омонимом.\n",
    "\n",
    "homonym_count = 0\n",
    "\n",
    "for word in new_text:\n",
    "    if len(morph.parse(word)) > 1:\n",
    "        homonym_count += 1\n",
    "\n",
    "# Вывод\n",
    "print(\"    Абсолютная частота омонимичных словоформ: \", homonym_count)"
   ]
  },
  {
   "cell_type": "markdown",
   "metadata": {},
   "source": [
    "### &nbsp;&nbsp;&nbsp;&nbsp;&nbsp;&nbsp;5.2 Относительная частота омонимичных словоформ"
   ]
  },
  {
   "cell_type": "code",
   "execution_count": 186,
   "metadata": {},
   "outputs": [
    {
     "name": "stdout",
     "output_type": "stream",
     "text": [
      "    Относительная частота омонимичных словоформ:  0.65\n"
     ]
    }
   ],
   "source": [
    "print(\"    Относительная частота омонимичных словоформ: \", round(homonym_count / len(new_text), 2))"
   ]
  },
  {
   "cell_type": "markdown",
   "metadata": {},
   "source": [
    "### &nbsp;&nbsp;&nbsp;&nbsp;&nbsp;&nbsp;5.3 Процент разных частей речи"
   ]
  },
  {
   "cell_type": "code",
   "execution_count": 187,
   "metadata": {
    "scrolled": true
   },
   "outputs": [
    {
     "data": {
      "text/html": [
       "<div>\n",
       "<style>\n",
       "    .dataframe thead tr:only-child th {\n",
       "        text-align: right;\n",
       "    }\n",
       "\n",
       "    .dataframe thead th {\n",
       "        text-align: left;\n",
       "    }\n",
       "\n",
       "    .dataframe tbody tr th {\n",
       "        vertical-align: top;\n",
       "    }\n",
       "</style>\n",
       "<table border=\"1\" class=\"dataframe\">\n",
       "  <thead>\n",
       "    <tr style=\"text-align: right;\">\n",
       "      <th></th>\n",
       "      <th>Часть речи</th>\n",
       "      <th>Процент</th>\n",
       "    </tr>\n",
       "  </thead>\n",
       "  <tbody>\n",
       "    <tr>\n",
       "      <th>0</th>\n",
       "      <td>VERB</td>\n",
       "      <td>9.78</td>\n",
       "    </tr>\n",
       "    <tr>\n",
       "      <th>1</th>\n",
       "      <td>PRED</td>\n",
       "      <td>0.33</td>\n",
       "    </tr>\n",
       "    <tr>\n",
       "      <th>2</th>\n",
       "      <td>PRTS</td>\n",
       "      <td>1.14</td>\n",
       "    </tr>\n",
       "    <tr>\n",
       "      <th>3</th>\n",
       "      <td>INTJ</td>\n",
       "      <td>0.10</td>\n",
       "    </tr>\n",
       "    <tr>\n",
       "      <th>4</th>\n",
       "      <td>INFN</td>\n",
       "      <td>2.23</td>\n",
       "    </tr>\n",
       "    <tr>\n",
       "      <th>5</th>\n",
       "      <td>None</td>\n",
       "      <td>0.58</td>\n",
       "    </tr>\n",
       "    <tr>\n",
       "      <th>6</th>\n",
       "      <td>NUMR</td>\n",
       "      <td>0.41</td>\n",
       "    </tr>\n",
       "    <tr>\n",
       "      <th>7</th>\n",
       "      <td>NPRO</td>\n",
       "      <td>3.76</td>\n",
       "    </tr>\n",
       "    <tr>\n",
       "      <th>8</th>\n",
       "      <td>NOUN</td>\n",
       "      <td>34.45</td>\n",
       "    </tr>\n",
       "    <tr>\n",
       "      <th>9</th>\n",
       "      <td>COMP</td>\n",
       "      <td>0.16</td>\n",
       "    </tr>\n",
       "    <tr>\n",
       "      <th>10</th>\n",
       "      <td>GRND</td>\n",
       "      <td>0.34</td>\n",
       "    </tr>\n",
       "    <tr>\n",
       "      <th>11</th>\n",
       "      <td>ADVB</td>\n",
       "      <td>4.94</td>\n",
       "    </tr>\n",
       "    <tr>\n",
       "      <th>12</th>\n",
       "      <td>CONJ</td>\n",
       "      <td>9.65</td>\n",
       "    </tr>\n",
       "    <tr>\n",
       "      <th>13</th>\n",
       "      <td>ADJF</td>\n",
       "      <td>14.39</td>\n",
       "    </tr>\n",
       "    <tr>\n",
       "      <th>14</th>\n",
       "      <td>ADJS</td>\n",
       "      <td>0.86</td>\n",
       "    </tr>\n",
       "    <tr>\n",
       "      <th>15</th>\n",
       "      <td>PRCL</td>\n",
       "      <td>3.43</td>\n",
       "    </tr>\n",
       "    <tr>\n",
       "      <th>16</th>\n",
       "      <td>PRTF</td>\n",
       "      <td>1.50</td>\n",
       "    </tr>\n",
       "    <tr>\n",
       "      <th>17</th>\n",
       "      <td>PREP</td>\n",
       "      <td>11.95</td>\n",
       "    </tr>\n",
       "  </tbody>\n",
       "</table>\n",
       "</div>"
      ],
      "text/plain": [
       "   Часть речи  Процент\n",
       "0        VERB     9.78\n",
       "1        PRED     0.33\n",
       "2        PRTS     1.14\n",
       "3        INTJ     0.10\n",
       "4        INFN     2.23\n",
       "5        None     0.58\n",
       "6        NUMR     0.41\n",
       "7        NPRO     3.76\n",
       "8        NOUN    34.45\n",
       "9        COMP     0.16\n",
       "10       GRND     0.34\n",
       "11       ADVB     4.94\n",
       "12       CONJ     9.65\n",
       "13       ADJF    14.39\n",
       "14       ADJS     0.86\n",
       "15       PRCL     3.43\n",
       "16       PRTF     1.50\n",
       "17       PREP    11.95"
      ]
     },
     "execution_count": 187,
     "metadata": {},
     "output_type": "execute_result"
    }
   ],
   "source": [
    "# Список, в который кладем части речи\n",
    "pos_list = []\n",
    "\n",
    "for word in new_text:\n",
    "    pos_list.append(morph.parse(word)[0].tag.POS)\n",
    "    \n",
    "# Подсчитываем количество для каждой части речи\n",
    "from collections import Counter\n",
    "pos_counts = dict(Counter(pos_list))\n",
    "\n",
    "# Переводим в проценты\n",
    "for value in pos_counts:\n",
    "    pos_counts[value] /= len(pos_list)\n",
    "    pos_counts[value] *= 100\n",
    "    pos_counts[value] = round(pos_counts[value], 2)\n",
    "\n",
    "# Вывод\n",
    "import pandas as pd\n",
    "pd.DataFrame(list(pos_counts.items()), columns=['Часть речи', 'Процент'])"
   ]
  },
  {
   "cell_type": "markdown",
   "metadata": {},
   "source": [
    "### &nbsp;&nbsp;&nbsp;&nbsp;&nbsp;&nbsp;5.4 Наиболее частотные падежи у существительных и прилагательных"
   ]
  },
  {
   "cell_type": "code",
   "execution_count": 188,
   "metadata": {},
   "outputs": [
    {
     "data": {
      "text/html": [
       "<div>\n",
       "<style>\n",
       "    .dataframe thead tr:only-child th {\n",
       "        text-align: right;\n",
       "    }\n",
       "\n",
       "    .dataframe thead th {\n",
       "        text-align: left;\n",
       "    }\n",
       "\n",
       "    .dataframe tbody tr th {\n",
       "        vertical-align: top;\n",
       "    }\n",
       "</style>\n",
       "<table border=\"1\" class=\"dataframe\">\n",
       "  <thead>\n",
       "    <tr style=\"text-align: right;\">\n",
       "      <th></th>\n",
       "      <th>Падеж</th>\n",
       "      <th>Частота</th>\n",
       "    </tr>\n",
       "  </thead>\n",
       "  <tbody>\n",
       "    <tr>\n",
       "      <th>0</th>\n",
       "      <td>accs</td>\n",
       "      <td>5499</td>\n",
       "    </tr>\n",
       "    <tr>\n",
       "      <th>1</th>\n",
       "      <td>datv</td>\n",
       "      <td>2756</td>\n",
       "    </tr>\n",
       "    <tr>\n",
       "      <th>2</th>\n",
       "      <td>nomn</td>\n",
       "      <td>13642</td>\n",
       "    </tr>\n",
       "    <tr>\n",
       "      <th>3</th>\n",
       "      <td>gen2</td>\n",
       "      <td>12</td>\n",
       "    </tr>\n",
       "    <tr>\n",
       "      <th>4</th>\n",
       "      <td>loc2</td>\n",
       "      <td>535</td>\n",
       "    </tr>\n",
       "    <tr>\n",
       "      <th>5</th>\n",
       "      <td>gent</td>\n",
       "      <td>21288</td>\n",
       "    </tr>\n",
       "    <tr>\n",
       "      <th>6</th>\n",
       "      <td>voct</td>\n",
       "      <td>72</td>\n",
       "    </tr>\n",
       "    <tr>\n",
       "      <th>7</th>\n",
       "      <td>ablt</td>\n",
       "      <td>4589</td>\n",
       "    </tr>\n",
       "    <tr>\n",
       "      <th>8</th>\n",
       "      <td>loct</td>\n",
       "      <td>5482</td>\n",
       "    </tr>\n",
       "  </tbody>\n",
       "</table>\n",
       "</div>"
      ],
      "text/plain": [
       "  Падеж  Частота\n",
       "0  accs     5499\n",
       "1  datv     2756\n",
       "2  nomn    13642\n",
       "3  gen2       12\n",
       "4  loc2      535\n",
       "5  gent    21288\n",
       "6  voct       72\n",
       "7  ablt     4589\n",
       "8  loct     5482"
      ]
     },
     "execution_count": 188,
     "metadata": {},
     "output_type": "execute_result"
    }
   ],
   "source": [
    "# Список падежей у существительных\n",
    "case_noun = []\n",
    "\n",
    "# Заполняем список\n",
    "for word in new_text:\n",
    "    if morph.parse(word)[0].tag.POS == 'NOUN':\n",
    "        case_noun.append(morph.parse(word)[0].tag.case)\n",
    "        \n",
    "# Выводим частоты падежей у существительных\n",
    "pd.DataFrame(list(dict(Counter(case_noun)).items()), columns=['Падеж', 'Частота'])"
   ]
  },
  {
   "cell_type": "code",
   "execution_count": 189,
   "metadata": {},
   "outputs": [
    {
     "data": {
      "text/html": [
       "<div>\n",
       "<style>\n",
       "    .dataframe thead tr:only-child th {\n",
       "        text-align: right;\n",
       "    }\n",
       "\n",
       "    .dataframe thead th {\n",
       "        text-align: left;\n",
       "    }\n",
       "\n",
       "    .dataframe tbody tr th {\n",
       "        vertical-align: top;\n",
       "    }\n",
       "</style>\n",
       "<table border=\"1\" class=\"dataframe\">\n",
       "  <thead>\n",
       "    <tr style=\"text-align: right;\">\n",
       "      <th></th>\n",
       "      <th>Падеж</th>\n",
       "      <th>Частота</th>\n",
       "    </tr>\n",
       "  </thead>\n",
       "  <tbody>\n",
       "    <tr>\n",
       "      <th>0</th>\n",
       "      <td>gent</td>\n",
       "      <td>7698</td>\n",
       "    </tr>\n",
       "    <tr>\n",
       "      <th>1</th>\n",
       "      <td>accs</td>\n",
       "      <td>1955</td>\n",
       "    </tr>\n",
       "    <tr>\n",
       "      <th>2</th>\n",
       "      <td>datv</td>\n",
       "      <td>1436</td>\n",
       "    </tr>\n",
       "    <tr>\n",
       "      <th>3</th>\n",
       "      <td>None</td>\n",
       "      <td>1347</td>\n",
       "    </tr>\n",
       "    <tr>\n",
       "      <th>4</th>\n",
       "      <td>loct</td>\n",
       "      <td>1786</td>\n",
       "    </tr>\n",
       "    <tr>\n",
       "      <th>5</th>\n",
       "      <td>nomn</td>\n",
       "      <td>8149</td>\n",
       "    </tr>\n",
       "    <tr>\n",
       "      <th>6</th>\n",
       "      <td>ablt</td>\n",
       "      <td>1488</td>\n",
       "    </tr>\n",
       "  </tbody>\n",
       "</table>\n",
       "</div>"
      ],
      "text/plain": [
       "  Падеж  Частота\n",
       "0  gent     7698\n",
       "1  accs     1955\n",
       "2  datv     1436\n",
       "3  None     1347\n",
       "4  loct     1786\n",
       "5  nomn     8149\n",
       "6  ablt     1488"
      ]
     },
     "execution_count": 189,
     "metadata": {},
     "output_type": "execute_result"
    }
   ],
   "source": [
    "# Список падежей у прилагательных\n",
    "case_adj = []\n",
    "\n",
    "# Заполняем список\n",
    "for word in new_text:\n",
    "    if morph.parse(word)[0].tag.POS == 'ADJF' or morph.parse(word)[0].tag.POS == 'ADJS':\n",
    "        case_adj.append(morph.parse(word)[0].tag.case)\n",
    "        \n",
    "# Выводим частоты падежей у существительных\n",
    "pd.DataFrame(list(dict(Counter(case_adj)).items()), columns=['Падеж', 'Частота'])"
   ]
  },
  {
   "cell_type": "markdown",
   "metadata": {},
   "source": [
    "Видно, что самый распространенный падеж у существительных - родительный (gent), у прилагательных - именительный (nomn)"
   ]
  },
  {
   "cell_type": "markdown",
   "metadata": {},
   "source": [
    "### &nbsp;&nbsp;&nbsp;&nbsp;&nbsp;&nbsp;5.5 Относительная частота падежей"
   ]
  },
  {
   "cell_type": "code",
   "execution_count": 190,
   "metadata": {},
   "outputs": [
    {
     "data": {
      "text/html": [
       "<div>\n",
       "<style>\n",
       "    .dataframe thead tr:only-child th {\n",
       "        text-align: right;\n",
       "    }\n",
       "\n",
       "    .dataframe thead th {\n",
       "        text-align: left;\n",
       "    }\n",
       "\n",
       "    .dataframe tbody tr th {\n",
       "        vertical-align: top;\n",
       "    }\n",
       "</style>\n",
       "<table border=\"1\" class=\"dataframe\">\n",
       "  <thead>\n",
       "    <tr style=\"text-align: right;\">\n",
       "      <th></th>\n",
       "      <th>Падеж</th>\n",
       "      <th>Частота</th>\n",
       "    </tr>\n",
       "  </thead>\n",
       "  <tbody>\n",
       "    <tr>\n",
       "      <th>0</th>\n",
       "      <td>accs</td>\n",
       "      <td>0.053</td>\n",
       "    </tr>\n",
       "    <tr>\n",
       "      <th>1</th>\n",
       "      <td>datv</td>\n",
       "      <td>0.031</td>\n",
       "    </tr>\n",
       "    <tr>\n",
       "      <th>2</th>\n",
       "      <td>nomn</td>\n",
       "      <td>0.165</td>\n",
       "    </tr>\n",
       "    <tr>\n",
       "      <th>3</th>\n",
       "      <td>gen2</td>\n",
       "      <td>0.000</td>\n",
       "    </tr>\n",
       "    <tr>\n",
       "      <th>4</th>\n",
       "      <td>None</td>\n",
       "      <td>0.455</td>\n",
       "    </tr>\n",
       "    <tr>\n",
       "      <th>5</th>\n",
       "      <td>gent</td>\n",
       "      <td>0.200</td>\n",
       "    </tr>\n",
       "    <tr>\n",
       "      <th>6</th>\n",
       "      <td>voct</td>\n",
       "      <td>0.000</td>\n",
       "    </tr>\n",
       "    <tr>\n",
       "      <th>7</th>\n",
       "      <td>ablt</td>\n",
       "      <td>0.043</td>\n",
       "    </tr>\n",
       "    <tr>\n",
       "      <th>8</th>\n",
       "      <td>loc2</td>\n",
       "      <td>0.003</td>\n",
       "    </tr>\n",
       "    <tr>\n",
       "      <th>9</th>\n",
       "      <td>loct</td>\n",
       "      <td>0.049</td>\n",
       "    </tr>\n",
       "  </tbody>\n",
       "</table>\n",
       "</div>"
      ],
      "text/plain": [
       "  Падеж  Частота\n",
       "0  accs    0.053\n",
       "1  datv    0.031\n",
       "2  nomn    0.165\n",
       "3  gen2    0.000\n",
       "4  None    0.455\n",
       "5  gent    0.200\n",
       "6  voct    0.000\n",
       "7  ablt    0.043\n",
       "8  loc2    0.003\n",
       "9  loct    0.049"
      ]
     },
     "execution_count": 190,
     "metadata": {},
     "output_type": "execute_result"
    }
   ],
   "source": [
    "# Список падежей\n",
    "cases = []\n",
    "for word in new_text:\n",
    "    cases.append(morph.parse(word)[0].tag.case)\n",
    "\n",
    "# Абсолютная частота падежей\n",
    "cases_count = pd.DataFrame(list(dict(Counter(cases)).items()), columns=['Падеж', 'Частота'])\n",
    "\n",
    "# Относительная частота падежей\n",
    "cases_count['Частота'] = cases_count['Частота'] / len(new_text)\n",
    "cases_count['Частота'] = round(cases_count['Частота'], 3)\n",
    "\n",
    "# Вывод\n",
    "cases_count"
   ]
  },
  {
   "cell_type": "markdown",
   "metadata": {},
   "source": [
    "### &nbsp;&nbsp;&nbsp;&nbsp;&nbsp;&nbsp;5.6 Наиболее частотные морфологические формы глаголов (время/лицо/число)"
   ]
  },
  {
   "cell_type": "code",
   "execution_count": 191,
   "metadata": {},
   "outputs": [
    {
     "name": "stdout",
     "output_type": "stream",
     "text": [
      "    Наиболее частотное время среди глаголов:  [('past', 9043)]\n",
      "    Наиболее частотное лицо среди глаголов:  [(None, 12795)]\n",
      "    Наиболее частотное число среди глаголов:  [('sing', 10272)]\n"
     ]
    }
   ],
   "source": [
    "# Список чисел глаголов\n",
    "number_list = []\n",
    "\n",
    "# Список времен глаголов\n",
    "tense_list = []\n",
    "\n",
    "# Список лиц глаголов\n",
    "person_list = []\n",
    "\n",
    "# Заполняем списки\n",
    "for word in new_text:\n",
    "    if morph.parse(word)[0].tag.POS == 'VERB' or morph.parse(word)[0].tag.POS == 'INFN':\n",
    "        number_list.append(morph.parse(word)[0].tag.number)\n",
    "        tense_list.append(morph.parse(word)[0].tag.tense)\n",
    "        person_list.append(morph.parse(word)[0].tag.person)\n",
    "\n",
    "# Выводим наиболее частотное время среди глаголов\n",
    "print('    Наиболее частотное время среди глаголов: ', Counter(tense_list).most_common(1))\n",
    "\n",
    "# Выводим наиболее частотное лицо среди глаголов\n",
    "print('    Наиболее частотное лицо среди глаголов: ', Counter(person_list).most_common(1))\n",
    "\n",
    "# Выводим наиболее частотное число среди глаголов\n",
    "print('    Наиболее частотное число среди глаголов: ', Counter(number_list).most_common(1))"
   ]
  },
  {
   "cell_type": "markdown",
   "metadata": {},
   "source": [
    "## 6. Лексические характеристики"
   ]
  },
  {
   "cell_type": "markdown",
   "metadata": {},
   "source": [
    "### &nbsp;&nbsp;&nbsp;&nbsp;&nbsp;&nbsp;6.1 Количество уникальных лемм"
   ]
  },
  {
   "cell_type": "code",
   "execution_count": 192,
   "metadata": {},
   "outputs": [
    {
     "name": "stdout",
     "output_type": "stream",
     "text": [
      "    Кол-во уникальных лемм:  11285\n"
     ]
    }
   ],
   "source": [
    "# Для начала лемматизируем все слова в нашем тексте. Используем pymorphy2\n",
    "\n",
    "# Список лемматизированных слов\n",
    "lemms = []\n",
    "\n",
    "# Заполняем его\n",
    "for word in new_text:\n",
    "    lemms.append(morph.parse(word)[0].normal_form)\n",
    "    \n",
    "# Выводим кол-во уникальных лемм\n",
    "print(\"    Кол-во уникальных лемм: \", len(set(lemms)))"
   ]
  },
  {
   "cell_type": "markdown",
   "metadata": {},
   "source": [
    "### &nbsp;&nbsp;&nbsp;&nbsp;&nbsp;&nbsp;6.2 Число уникальных лемм разных частей речи (существительных, глаголов и др.)"
   ]
  },
  {
   "cell_type": "code",
   "execution_count": 193,
   "metadata": {
    "scrolled": true
   },
   "outputs": [
    {
     "data": {
      "text/html": [
       "<div>\n",
       "<style>\n",
       "    .dataframe thead tr:only-child th {\n",
       "        text-align: right;\n",
       "    }\n",
       "\n",
       "    .dataframe thead th {\n",
       "        text-align: left;\n",
       "    }\n",
       "\n",
       "    .dataframe tbody tr th {\n",
       "        vertical-align: top;\n",
       "    }\n",
       "</style>\n",
       "<table border=\"1\" class=\"dataframe\">\n",
       "  <thead>\n",
       "    <tr style=\"text-align: right;\">\n",
       "      <th></th>\n",
       "      <th>Часть речи леммы</th>\n",
       "      <th>Частота</th>\n",
       "    </tr>\n",
       "  </thead>\n",
       "  <tbody>\n",
       "    <tr>\n",
       "      <th>0</th>\n",
       "      <td>VERB</td>\n",
       "      <td>35</td>\n",
       "    </tr>\n",
       "    <tr>\n",
       "      <th>1</th>\n",
       "      <td>PRED</td>\n",
       "      <td>12</td>\n",
       "    </tr>\n",
       "    <tr>\n",
       "      <th>2</th>\n",
       "      <td>PRTS</td>\n",
       "      <td>7</td>\n",
       "    </tr>\n",
       "    <tr>\n",
       "      <th>3</th>\n",
       "      <td>INTJ</td>\n",
       "      <td>11</td>\n",
       "    </tr>\n",
       "    <tr>\n",
       "      <th>4</th>\n",
       "      <td>INFN</td>\n",
       "      <td>2950</td>\n",
       "    </tr>\n",
       "    <tr>\n",
       "      <th>5</th>\n",
       "      <td>None</td>\n",
       "      <td>130</td>\n",
       "    </tr>\n",
       "    <tr>\n",
       "      <th>6</th>\n",
       "      <td>NPRO</td>\n",
       "      <td>19</td>\n",
       "    </tr>\n",
       "    <tr>\n",
       "      <th>7</th>\n",
       "      <td>NOUN</td>\n",
       "      <td>5294</td>\n",
       "    </tr>\n",
       "    <tr>\n",
       "      <th>8</th>\n",
       "      <td>NUMR</td>\n",
       "      <td>33</td>\n",
       "    </tr>\n",
       "    <tr>\n",
       "      <th>9</th>\n",
       "      <td>GRND</td>\n",
       "      <td>7</td>\n",
       "    </tr>\n",
       "    <tr>\n",
       "      <th>10</th>\n",
       "      <td>ADVB</td>\n",
       "      <td>616</td>\n",
       "    </tr>\n",
       "    <tr>\n",
       "      <th>11</th>\n",
       "      <td>CONJ</td>\n",
       "      <td>60</td>\n",
       "    </tr>\n",
       "    <tr>\n",
       "      <th>12</th>\n",
       "      <td>ADJF</td>\n",
       "      <td>2020</td>\n",
       "    </tr>\n",
       "    <tr>\n",
       "      <th>13</th>\n",
       "      <td>ADJS</td>\n",
       "      <td>14</td>\n",
       "    </tr>\n",
       "    <tr>\n",
       "      <th>14</th>\n",
       "      <td>PRCL</td>\n",
       "      <td>27</td>\n",
       "    </tr>\n",
       "    <tr>\n",
       "      <th>15</th>\n",
       "      <td>PRTF</td>\n",
       "      <td>4</td>\n",
       "    </tr>\n",
       "    <tr>\n",
       "      <th>16</th>\n",
       "      <td>PREP</td>\n",
       "      <td>46</td>\n",
       "    </tr>\n",
       "  </tbody>\n",
       "</table>\n",
       "</div>"
      ],
      "text/plain": [
       "   Часть речи леммы  Частота\n",
       "0              VERB       35\n",
       "1              PRED       12\n",
       "2              PRTS        7\n",
       "3              INTJ       11\n",
       "4              INFN     2950\n",
       "5              None      130\n",
       "6              NPRO       19\n",
       "7              NOUN     5294\n",
       "8              NUMR       33\n",
       "9              GRND        7\n",
       "10             ADVB      616\n",
       "11             CONJ       60\n",
       "12             ADJF     2020\n",
       "13             ADJS       14\n",
       "14             PRCL       27\n",
       "15             PRTF        4\n",
       "16             PREP       46"
      ]
     },
     "execution_count": 193,
     "metadata": {},
     "output_type": "execute_result"
    }
   ],
   "source": [
    "# Части речи уникальных лемм\n",
    "lemms_pos_list = []\n",
    "\n",
    "# Заполняем список\n",
    "for lemma in set(lemms):\n",
    "    lemms_pos_list.append(morph.parse(lemma)[0].tag.POS)\n",
    "\n",
    "# Вывод\n",
    "pd.DataFrame(list(dict(Counter(lemms_pos_list)).items()), columns=['Часть речи леммы', 'Частота'])"
   ]
  },
  {
   "cell_type": "markdown",
   "metadata": {},
   "source": [
    "### &nbsp;&nbsp;&nbsp;&nbsp;&nbsp;&nbsp;6.3 Число незнакомых слов"
   ]
  },
  {
   "cell_type": "code",
   "execution_count": 194,
   "metadata": {},
   "outputs": [
    {
     "name": "stdout",
     "output_type": "stream",
     "text": [
      "    Число незнакомых слов:  1033\n"
     ]
    }
   ],
   "source": [
    "# Ищем по принципу: \"не можем определить часть речи - слово незнакомо pymorphy2\"\n",
    "\n",
    "# Счетчик\n",
    "unknown_words = 0\n",
    "\n",
    "# Считаем\n",
    "for lemma in lemms:\n",
    "    if morph.parse(lemma)[0].tag.POS == None:\n",
    "        unknown_words += 1\n",
    "# Вывод\n",
    "print('    Число незнакомых слов: ', unknown_words)"
   ]
  },
  {
   "cell_type": "markdown",
   "metadata": {},
   "source": [
    "### &nbsp;&nbsp;&nbsp;&nbsp;&nbsp;&nbsp;6.4 Самые частотные слова и их относительная частота"
   ]
  },
  {
   "cell_type": "code",
   "execution_count": 195,
   "metadata": {},
   "outputs": [
    {
     "data": {
      "text/plain": [
       "[('до', 887),\n",
       " ('из', 1007),\n",
       " ('как', 1276),\n",
       " ('это', 1301),\n",
       " ('не', 1423),\n",
       " ('с', 1480),\n",
       " ('на', 1914),\n",
       " ('что', 2852),\n",
       " ('и', 4402),\n",
       " ('в', 6539)]"
      ]
     },
     "execution_count": 195,
     "metadata": {},
     "output_type": "execute_result"
    }
   ],
   "source": [
    "# Самые частотные слова, топ-10\n",
    "\n",
    "words_dict = dict(Counter(new_text))\n",
    "frequent_words = sorted(words_dict.items(), key=lambda x: x[1])[-10:]\n",
    "frequent_words"
   ]
  },
  {
   "cell_type": "code",
   "execution_count": 196,
   "metadata": {},
   "outputs": [
    {
     "data": {
      "text/plain": [
       "[('которые', 262),\n",
       " ('таким', 266),\n",
       " ('также', 341),\n",
       " ('образом', 353),\n",
       " ('году', 408),\n",
       " ('время', 423),\n",
       " ('богов', 446),\n",
       " ('рх', 501),\n",
       " ('лет', 665),\n",
       " ('это', 1301)]"
      ]
     },
     "execution_count": 196,
     "metadata": {},
     "output_type": "execute_result"
    }
   ],
   "source": [
    "# Самые частотные слова без учета стоп-слов, топ-10\n",
    "\n",
    "# Достаем стоп-слова из NLTK\n",
    "from nltk.corpus import stopwords\n",
    "stop_words = set(stopwords.words('russian'))\n",
    "\n",
    "# Создаем новый словарь (слово - счетчик) без учета стоп-слов\n",
    "keys = []\n",
    "values = []\n",
    "\n",
    "for pair in sorted(words_dict.items(), key=lambda x: x[1]):\n",
    "    if pair[0] not in stop_words:\n",
    "        keys.append(pair[0])\n",
    "        values.append(pair[1])\n",
    "\n",
    "new_dict = dict(zip(keys, values))\n",
    "\n",
    "\n",
    "# Вывод\n",
    "sorted(new_dict.items(), key=lambda x: x[1])[-10:]"
   ]
  },
  {
   "cell_type": "code",
   "execution_count": 197,
   "metadata": {},
   "outputs": [
    {
     "name": "stdout",
     "output_type": "stream",
     "text": [
      "' до '   0.006\n",
      "' из '   0.006\n",
      "' как '   0.008\n",
      "' это '   0.008\n",
      "' не '   0.009\n",
      "' с '   0.009\n",
      "' на '   0.012\n",
      "' что '   0.018\n",
      "' и '   0.028\n",
      "' в '   0.042\n"
     ]
    }
   ],
   "source": [
    "# Относительная частота топ-10\n",
    "\n",
    "for pair in frequent_words:\n",
    "    x = pair[1]\n",
    "    x /= len(new_text)\n",
    "    print(\"'\", pair[0], \"'\", ' ', round(x, 3))"
   ]
  },
  {
   "cell_type": "code",
   "execution_count": 198,
   "metadata": {},
   "outputs": [
    {
     "name": "stdout",
     "output_type": "stream",
     "text": [
      "' которые '   0.002\n",
      "' таким '   0.002\n",
      "' также '   0.002\n",
      "' образом '   0.002\n",
      "' году '   0.003\n",
      "' время '   0.003\n",
      "' богов '   0.003\n",
      "' рх '   0.003\n",
      "' лет '   0.004\n",
      "' это '   0.008\n"
     ]
    }
   ],
   "source": [
    "# Относительная частота топ-10 без стоп-слов\n",
    "\n",
    "for pair in sorted(new_dict.items(), key=lambda x: x[1])[-10:]:\n",
    "    x = pair[1]\n",
    "    x /= len(new_text)\n",
    "    print(\"'\", pair[0], \"'\", ' ', round(x, 3))"
   ]
  },
  {
   "cell_type": "markdown",
   "metadata": {},
   "source": [
    "### &nbsp;&nbsp;&nbsp;&nbsp;&nbsp;&nbsp;6.5 Самые частотные слова основных частей речи (существительные, прилагательные, наречия, глаголы)"
   ]
  },
  {
   "cell_type": "code",
   "execution_count": 199,
   "metadata": {},
   "outputs": [
    {
     "data": {
      "text/html": [
       "<div>\n",
       "<style>\n",
       "    .dataframe thead tr:only-child th {\n",
       "        text-align: right;\n",
       "    }\n",
       "\n",
       "    .dataframe thead th {\n",
       "        text-align: left;\n",
       "    }\n",
       "\n",
       "    .dataframe tbody tr th {\n",
       "        vertical-align: top;\n",
       "    }\n",
       "</style>\n",
       "<table border=\"1\" class=\"dataframe\">\n",
       "  <thead>\n",
       "    <tr style=\"text-align: right;\">\n",
       "      <th></th>\n",
       "      <th>Слова</th>\n",
       "    </tr>\n",
       "    <tr>\n",
       "      <th>Часть речи</th>\n",
       "      <th></th>\n",
       "    </tr>\n",
       "  </thead>\n",
       "  <tbody>\n",
       "    <tr>\n",
       "      <th>ADJF</th>\n",
       "      <td>[человекообразное, известное, прямостоящий, ра...</td>\n",
       "    </tr>\n",
       "    <tr>\n",
       "      <th>ADJS</th>\n",
       "      <td>[обширна, сложны, повинны, должен, неопровержи...</td>\n",
       "    </tr>\n",
       "    <tr>\n",
       "      <th>ADVB</th>\n",
       "      <td>[назад, внезапно, внезапно, весьма, чрезвычайн...</td>\n",
       "    </tr>\n",
       "    <tr>\n",
       "      <th>COMP</th>\n",
       "      <td>[больше, глубже, меньше, лучше, дальше, позже,...</td>\n",
       "    </tr>\n",
       "    <tr>\n",
       "      <th>CONJ</th>\n",
       "      <td>[и, как, так, как, и, когда, то, что, и, и, и,...</td>\n",
       "    </tr>\n",
       "    <tr>\n",
       "      <th>GRND</th>\n",
       "      <td>[обращаясь, учитывая, начиная, объединив, уста...</td>\n",
       "    </tr>\n",
       "    <tr>\n",
       "      <th>INFN</th>\n",
       "      <td>[говорить, произойти, существовать, воспринима...</td>\n",
       "    </tr>\n",
       "    <tr>\n",
       "      <th>INTJ</th>\n",
       "      <td>[есть, есть, есть, есть, есть, есть, неужто, е...</td>\n",
       "    </tr>\n",
       "    <tr>\n",
       "      <th>NOUN</th>\n",
       "      <td>[введение, тысяч, лет, существо, именем, челов...</td>\n",
       "    </tr>\n",
       "    <tr>\n",
       "      <th>NPRO</th>\n",
       "      <td>[этом, него, он, его, мы, кто, этим, мы, нам, ...</td>\n",
       "    </tr>\n",
       "    <tr>\n",
       "      <th>NUMR</th>\n",
       "      <td>[четыре, оба, пять, четырех, оба, четырнадцать...</td>\n",
       "    </tr>\n",
       "    <tr>\n",
       "      <th>PRCL</th>\n",
       "      <td>[это, именно, не, бы, же, же, это, лишь, не, т...</td>\n",
       "    </tr>\n",
       "    <tr>\n",
       "      <th>PRED</th>\n",
       "      <td>[можно, можно, можно, нет, нужно, известно, не...</td>\n",
       "    </tr>\n",
       "    <tr>\n",
       "      <th>PREP</th>\n",
       "      <td>[под, в, при, у, на, к, после, в, к, в, в, о, ...</td>\n",
       "    </tr>\n",
       "    <tr>\n",
       "      <th>PRTF</th>\n",
       "      <td>[посвященных, вызвавших, сделанных, отнесенног...</td>\n",
       "    </tr>\n",
       "    <tr>\n",
       "      <th>PRTS</th>\n",
       "      <td>[дарована, подогнано, посвящена, обязан, поста...</td>\n",
       "    </tr>\n",
       "    <tr>\n",
       "      <th>VERB</th>\n",
       "      <td>[превратилось, объем, увеличился, обрел, прибл...</td>\n",
       "    </tr>\n",
       "  </tbody>\n",
       "</table>\n",
       "</div>"
      ],
      "text/plain": [
       "                                                        Слова\n",
       "Часть речи                                                   \n",
       "ADJF        [человекообразное, известное, прямостоящий, ра...\n",
       "ADJS        [обширна, сложны, повинны, должен, неопровержи...\n",
       "ADVB        [назад, внезапно, внезапно, весьма, чрезвычайн...\n",
       "COMP        [больше, глубже, меньше, лучше, дальше, позже,...\n",
       "CONJ        [и, как, так, как, и, когда, то, что, и, и, и,...\n",
       "GRND        [обращаясь, учитывая, начиная, объединив, уста...\n",
       "INFN        [говорить, произойти, существовать, воспринима...\n",
       "INTJ        [есть, есть, есть, есть, есть, есть, неужто, е...\n",
       "NOUN        [введение, тысяч, лет, существо, именем, челов...\n",
       "NPRO        [этом, него, он, его, мы, кто, этим, мы, нам, ...\n",
       "NUMR        [четыре, оба, пять, четырех, оба, четырнадцать...\n",
       "PRCL        [это, именно, не, бы, же, же, это, лишь, не, т...\n",
       "PRED        [можно, можно, можно, нет, нужно, известно, не...\n",
       "PREP        [под, в, при, у, на, к, после, в, к, в, в, о, ...\n",
       "PRTF        [посвященных, вызвавших, сделанных, отнесенног...\n",
       "PRTS        [дарована, подогнано, посвящена, обязан, поста...\n",
       "VERB        [превратилось, объем, увеличился, обрел, прибл..."
      ]
     },
     "execution_count": 199,
     "metadata": {},
     "output_type": "execute_result"
    }
   ],
   "source": [
    "pos_list, new_text\n",
    "\n",
    "# Табица - часть речи/слова\n",
    "pos_word_df = pd.DataFrame({'Часть речи': pos_list, 'Слова': new_text})\n",
    "pos_word_df = pos_word_df.groupby(by = 'Часть речи')['Слова'].apply(list)\n",
    "pos_word_df = pos_word_df.to_frame()\n",
    "pos_word_df"
   ]
  },
  {
   "cell_type": "code",
   "execution_count": 200,
   "metadata": {},
   "outputs": [
    {
     "data": {
      "text/html": [
       "<div>\n",
       "<style>\n",
       "    .dataframe thead tr:only-child th {\n",
       "        text-align: right;\n",
       "    }\n",
       "\n",
       "    .dataframe thead th {\n",
       "        text-align: left;\n",
       "    }\n",
       "\n",
       "    .dataframe tbody tr th {\n",
       "        vertical-align: top;\n",
       "    }\n",
       "</style>\n",
       "<table border=\"1\" class=\"dataframe\">\n",
       "  <thead>\n",
       "    <tr style=\"text-align: right;\">\n",
       "      <th></th>\n",
       "      <th>Слова</th>\n",
       "    </tr>\n",
       "    <tr>\n",
       "      <th>Часть речи</th>\n",
       "      <th></th>\n",
       "    </tr>\n",
       "  </thead>\n",
       "  <tbody>\n",
       "    <tr>\n",
       "      <th>ADJF</th>\n",
       "      <td>все</td>\n",
       "    </tr>\n",
       "    <tr>\n",
       "      <th>ADJS</th>\n",
       "      <td>должны</td>\n",
       "    </tr>\n",
       "    <tr>\n",
       "      <th>ADVB</th>\n",
       "      <td>более</td>\n",
       "    </tr>\n",
       "    <tr>\n",
       "      <th>COMP</th>\n",
       "      <td>больше</td>\n",
       "    </tr>\n",
       "    <tr>\n",
       "      <th>CONJ</th>\n",
       "      <td>и</td>\n",
       "    </tr>\n",
       "    <tr>\n",
       "      <th>GRND</th>\n",
       "      <td>судя</td>\n",
       "    </tr>\n",
       "    <tr>\n",
       "      <th>INFN</th>\n",
       "      <td>быть</td>\n",
       "    </tr>\n",
       "    <tr>\n",
       "      <th>INTJ</th>\n",
       "      <td>есть</td>\n",
       "    </tr>\n",
       "    <tr>\n",
       "      <th>NOUN</th>\n",
       "      <td>лет</td>\n",
       "    </tr>\n",
       "    <tr>\n",
       "      <th>NPRO</th>\n",
       "      <td>его</td>\n",
       "    </tr>\n",
       "    <tr>\n",
       "      <th>NUMR</th>\n",
       "      <td>два</td>\n",
       "    </tr>\n",
       "    <tr>\n",
       "      <th>PRCL</th>\n",
       "      <td>не</td>\n",
       "    </tr>\n",
       "    <tr>\n",
       "      <th>PRED</th>\n",
       "      <td>можно</td>\n",
       "    </tr>\n",
       "    <tr>\n",
       "      <th>PREP</th>\n",
       "      <td>в</td>\n",
       "    </tr>\n",
       "    <tr>\n",
       "      <th>PRTF</th>\n",
       "      <td>данные</td>\n",
       "    </tr>\n",
       "    <tr>\n",
       "      <th>PRTS</th>\n",
       "      <td>создан</td>\n",
       "    </tr>\n",
       "    <tr>\n",
       "      <th>VERB</th>\n",
       "      <td>было</td>\n",
       "    </tr>\n",
       "  </tbody>\n",
       "</table>\n",
       "</div>"
      ],
      "text/plain": [
       "             Слова\n",
       "Часть речи        \n",
       "ADJF           все\n",
       "ADJS        должны\n",
       "ADVB         более\n",
       "COMP        больше\n",
       "CONJ             и\n",
       "GRND          судя\n",
       "INFN          быть\n",
       "INTJ          есть\n",
       "NOUN           лет\n",
       "NPRO           его\n",
       "NUMR           два\n",
       "PRCL            не\n",
       "PRED         можно\n",
       "PREP             в\n",
       "PRTF        данные\n",
       "PRTS        создан\n",
       "VERB          было"
      ]
     },
     "execution_count": 200,
     "metadata": {},
     "output_type": "execute_result"
    }
   ],
   "source": [
    "# Оставляем самое частотное слово в правой колонке\n",
    "\n",
    "pos_word_df['Слова'] = pos_word_df['Слова'].apply(lambda ls: nltk.FreqDist(ls).max())\n",
    "pos_word_df"
   ]
  },
  {
   "cell_type": "markdown",
   "metadata": {},
   "source": [
    "### &nbsp;&nbsp;&nbsp;&nbsp;&nbsp;&nbsp;6.6 Коэффициент лексического богатства текста"
   ]
  },
  {
   "cell_type": "code",
   "execution_count": 201,
   "metadata": {},
   "outputs": [
    {
     "name": "stdout",
     "output_type": "stream",
     "text": [
      "    Коэффициент лексического богатства текста:  0.072\n"
     ]
    }
   ],
   "source": [
    "# Отношение числа различных лемм к общему числу словоупотреблений\n",
    "print('    Коэффициент лексического богатства текста: ', round(len(set(lemms))/len(new_text), 3) )"
   ]
  }
 ],
 "metadata": {
  "kernelspec": {
   "display_name": "Python [conda root]",
   "language": "python",
   "name": "conda-root-py"
  },
  "language_info": {
   "codemirror_mode": {
    "name": "ipython",
    "version": 3
   },
   "file_extension": ".py",
   "mimetype": "text/x-python",
   "name": "python",
   "nbconvert_exporter": "python",
   "pygments_lexer": "ipython3",
   "version": "3.5.3"
  }
 },
 "nbformat": 4,
 "nbformat_minor": 2
}
