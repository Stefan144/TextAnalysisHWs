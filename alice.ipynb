{
 "cells": [
  {
   "cell_type": "markdown",
   "metadata": {},
   "source": [
    "# Задание E &nbsp;&nbsp;&nbsp;&nbsp;&nbsp;&nbsp;&nbsp;&nbsp;&nbsp;&nbsp;&nbsp;&nbsp;&nbsp;&nbsp;&nbsp;&nbsp;&nbsp;&nbsp;&nbsp;&nbsp;&nbsp;&nbsp;&nbsp;&nbsp;&nbsp;&nbsp;&nbsp;&nbsp;&nbsp;&nbsp;&nbsp;&nbsp;&nbsp;&nbsp;&nbsp;&nbsp;&nbsp;&nbsp;&nbsp;&nbsp;&nbsp;&nbsp;&nbsp;&nbsp;&nbsp;&nbsp;&nbsp;&nbsp;&nbsp;&nbsp;&nbsp;&nbsp;&nbsp;&nbsp;&nbsp;&nbsp;&nbsp;&nbsp;&nbsp;&nbsp;&nbsp;&nbsp;&nbsp;&nbsp;&nbsp;&nbsp;&nbsp;&nbsp;&nbsp;&nbsp;&nbsp;&nbsp;&nbsp;&nbsp;&nbsp;&nbsp;&nbsp; Николич Стефан"
   ]
  },
  {
   "cell_type": "markdown",
   "metadata": {},
   "source": [
    "## 1. Открываем текст"
   ]
  },
  {
   "cell_type": "code",
   "execution_count": 1,
   "metadata": {
    "collapsed": true
   },
   "outputs": [],
   "source": [
    "# Открываем текст\n",
    "with open('alice.txt', 'r') as myfile:\n",
    "    text=myfile.read().replace('\\n', '')"
   ]
  },
  {
   "cell_type": "markdown",
   "metadata": {
    "collapsed": true
   },
   "source": [
    "## 2. Сегментируем текст на словоформы"
   ]
  },
  {
   "cell_type": "code",
   "execution_count": 2,
   "metadata": {
    "collapsed": true
   },
   "outputs": [],
   "source": [
    "# Сегментацию можно проделать разными способами. Например можно заменить все небуквенные символы из текста на\n",
    "# пробелы и поделить текст на словоформы используя пробелы как разделитель. Можно также использовать готовое \n",
    "# решение библиотеки NLTK:\n",
    "# tokens = nltk.word_tokenize(text)\n",
    "# nltk_text = nltk.Text(tokens)\n",
    "# Я попробую первым способом:\n",
    "\n",
    "import re\n",
    "# Регулярное выр-ие на все буквенные символы\n",
    "regex = re.compile('[^а-яА-Я]')\n",
    "# Убираем все не буквенные символы и сегментируем текст на словоформы используя пробелы как разделитель\n",
    "new_text = regex.sub(' ', text).split()\n",
    "# Все буквы в нижний регистр\n",
    "for word_index in range(len(new_text)):\n",
    "    new_text[word_index] = new_text[word_index].lower()"
   ]
  },
  {
   "cell_type": "markdown",
   "metadata": {},
   "source": [
    "## 3. Морфологический анализ словоформ текста"
   ]
  },
  {
   "cell_type": "code",
   "execution_count": 3,
   "metadata": {},
   "outputs": [
    {
     "data": {
      "text/plain": [
       "[Parse(word='убежал', tag=OpencorporaTag('VERB,perf,intr masc,sing,past,indc'), normal_form='убежать', score=1.0, methods_stack=((<DictionaryAnalyzer>, 'убежал', 611, 1),))]"
      ]
     },
     "execution_count": 3,
     "metadata": {},
     "output_type": "execute_result"
    }
   ],
   "source": [
    "# Морфоанализ мы будем проводить с помощью библиотеки pymorphy2. Пример работы библиотеки:\n",
    "import pymorphy2\n",
    "morph = pymorphy2.MorphAnalyzer()\n",
    "morph.parse('убежал')"
   ]
  },
  {
   "cell_type": "markdown",
   "metadata": {
    "collapsed": true
   },
   "source": [
    "## 4. Общестатистические характеристики"
   ]
  },
  {
   "cell_type": "markdown",
   "metadata": {
    "collapsed": true
   },
   "source": [
    "### &nbsp;&nbsp;&nbsp;&nbsp;&nbsp;&nbsp;4.1 Общее число словоупотреблений"
   ]
  },
  {
   "cell_type": "code",
   "execution_count": 4,
   "metadata": {},
   "outputs": [
    {
     "name": "stdout",
     "output_type": "stream",
     "text": [
      "    Общее число словоупотреблений:  2064\n"
     ]
    }
   ],
   "source": [
    "print(\"    Общее число словоупотреблений: \", len(new_text))"
   ]
  },
  {
   "cell_type": "markdown",
   "metadata": {},
   "source": [
    "### &nbsp;&nbsp;&nbsp;&nbsp;&nbsp;&nbsp;4.2 Число различных словоформ"
   ]
  },
  {
   "cell_type": "code",
   "execution_count": 5,
   "metadata": {},
   "outputs": [
    {
     "name": "stdout",
     "output_type": "stream",
     "text": [
      "    Число различных словоформ:  978\n"
     ]
    }
   ],
   "source": [
    "print(\"    Число различных словоформ: \", len(set(new_text)))"
   ]
  },
  {
   "cell_type": "markdown",
   "metadata": {},
   "source": [
    "### &nbsp;&nbsp;&nbsp;&nbsp;&nbsp;&nbsp;4.3 Средняя длина словоформы"
   ]
  },
  {
   "cell_type": "code",
   "execution_count": 6,
   "metadata": {},
   "outputs": [
    {
     "name": "stdout",
     "output_type": "stream",
     "text": [
      "    Средняя длина словоформы:  5.0\n"
     ]
    }
   ],
   "source": [
    "# Поскольку текст сегментировался на словоформы, а не предложения, то будем считать среднюю длину словоформы\n",
    "avg_word_len = 0\n",
    "for word in new_text:\n",
    "    avg_word_len += len(word)\n",
    "avg_word_len = avg_word_len / len(new_text)\n",
    "\n",
    "# Выводим результат\n",
    "print(\"    Средняя длина словоформы: \", \"%.1f\" % avg_word_len)"
   ]
  },
  {
   "cell_type": "markdown",
   "metadata": {},
   "source": [
    "### &nbsp;&nbsp;&nbsp;&nbsp;&nbsp;&nbsp;4.4 Средняя длина предложения"
   ]
  },
  {
   "cell_type": "code",
   "execution_count": 7,
   "metadata": {},
   "outputs": [
    {
     "name": "stdout",
     "output_type": "stream",
     "text": [
      "    Средняя длина предложения (ПО КОЛ-ВУ СИМВОЛОВ):  73.9\n"
     ]
    }
   ],
   "source": [
    "# Можно подсчитать и среднюю длину предложения. Для этого, используем библиотеку NLTK чтобы сегментировать текст\n",
    "# на предложения. \n",
    "\n",
    "# Сегментируем текст на предложения\n",
    "import nltk\n",
    "from nltk import sent_tokenize\n",
    "tokens = nltk.sent_tokenize(text)\n",
    "sent_text = nltk.Text(tokens)\n",
    "\n",
    "# Теперь считаем среднюю длину предложения\n",
    "avg_sent_len = 0\n",
    "for sentence in sent_text:\n",
    "    avg_sent_len += len(sentence)\n",
    "avg_sent_len = avg_sent_len / len(sent_text)\n",
    "\n",
    "# Выводим результат\n",
    "print(\"    Средняя длина предложения (ПО КОЛ-ВУ СИМВОЛОВ): \", \"%.1f\" % avg_sent_len)"
   ]
  },
  {
   "cell_type": "markdown",
   "metadata": {},
   "source": [
    "## 5. Морфологические характеристики"
   ]
  },
  {
   "cell_type": "markdown",
   "metadata": {},
   "source": [
    "### &nbsp;&nbsp;&nbsp;&nbsp;&nbsp;&nbsp;5.1 Абсолютная частота омонимичных словоформ"
   ]
  },
  {
   "cell_type": "code",
   "execution_count": 8,
   "metadata": {},
   "outputs": [
    {
     "name": "stdout",
     "output_type": "stream",
     "text": [
      "    Абсолютная частота омонимичных словоформ:  1149\n"
     ]
    }
   ],
   "source": [
    "# Омонимия – совпадение по форме разных по смыслу языковых единиц \n",
    "# Таким образом, если наш парсер выдает более чем одну интерпретацию к словоформе\n",
    "# (например, с разными падежами), то будем считать словоформу омонимом.\n",
    "\n",
    "homonym_count = 0\n",
    "\n",
    "for word in new_text:\n",
    "    if len(morph.parse(word)) > 1:\n",
    "        homonym_count += 1\n",
    "\n",
    "# Вывод\n",
    "print(\"    Абсолютная частота омонимичных словоформ: \", homonym_count)"
   ]
  },
  {
   "cell_type": "markdown",
   "metadata": {},
   "source": [
    "### &nbsp;&nbsp;&nbsp;&nbsp;&nbsp;&nbsp;5.2 Относительная частота омонимичных словоформ"
   ]
  },
  {
   "cell_type": "code",
   "execution_count": 9,
   "metadata": {},
   "outputs": [
    {
     "name": "stdout",
     "output_type": "stream",
     "text": [
      "    Относительная частота омонимичных словоформ:  0.56\n"
     ]
    }
   ],
   "source": [
    "print(\"    Относительная частота омонимичных словоформ: \", round(homonym_count / len(new_text), 2))"
   ]
  },
  {
   "cell_type": "markdown",
   "metadata": {},
   "source": [
    "### &nbsp;&nbsp;&nbsp;&nbsp;&nbsp;&nbsp;5.3 Процент разных частей речи"
   ]
  },
  {
   "cell_type": "code",
   "execution_count": 10,
   "metadata": {
    "scrolled": true
   },
   "outputs": [
    {
     "data": {
      "text/html": [
       "<div>\n",
       "<style>\n",
       "    .dataframe thead tr:only-child th {\n",
       "        text-align: right;\n",
       "    }\n",
       "\n",
       "    .dataframe thead th {\n",
       "        text-align: left;\n",
       "    }\n",
       "\n",
       "    .dataframe tbody tr th {\n",
       "        vertical-align: top;\n",
       "    }\n",
       "</style>\n",
       "<table border=\"1\" class=\"dataframe\">\n",
       "  <thead>\n",
       "    <tr style=\"text-align: right;\">\n",
       "      <th></th>\n",
       "      <th>Часть речи</th>\n",
       "      <th>Процент</th>\n",
       "    </tr>\n",
       "  </thead>\n",
       "  <tbody>\n",
       "    <tr>\n",
       "      <th>0</th>\n",
       "      <td>COMP</td>\n",
       "      <td>0.78</td>\n",
       "    </tr>\n",
       "    <tr>\n",
       "      <th>1</th>\n",
       "      <td>PREP</td>\n",
       "      <td>7.36</td>\n",
       "    </tr>\n",
       "    <tr>\n",
       "      <th>2</th>\n",
       "      <td>CONJ</td>\n",
       "      <td>13.71</td>\n",
       "    </tr>\n",
       "    <tr>\n",
       "      <th>3</th>\n",
       "      <td>INTJ</td>\n",
       "      <td>0.92</td>\n",
       "    </tr>\n",
       "    <tr>\n",
       "      <th>4</th>\n",
       "      <td>PRCL</td>\n",
       "      <td>8.48</td>\n",
       "    </tr>\n",
       "    <tr>\n",
       "      <th>5</th>\n",
       "      <td>GRND</td>\n",
       "      <td>0.58</td>\n",
       "    </tr>\n",
       "    <tr>\n",
       "      <th>6</th>\n",
       "      <td>ADJF</td>\n",
       "      <td>8.72</td>\n",
       "    </tr>\n",
       "    <tr>\n",
       "      <th>7</th>\n",
       "      <td>PRTS</td>\n",
       "      <td>0.15</td>\n",
       "    </tr>\n",
       "    <tr>\n",
       "      <th>8</th>\n",
       "      <td>ADJS</td>\n",
       "      <td>0.78</td>\n",
       "    </tr>\n",
       "    <tr>\n",
       "      <th>9</th>\n",
       "      <td>INFN</td>\n",
       "      <td>3.25</td>\n",
       "    </tr>\n",
       "    <tr>\n",
       "      <th>10</th>\n",
       "      <td>NPRO</td>\n",
       "      <td>9.64</td>\n",
       "    </tr>\n",
       "    <tr>\n",
       "      <th>11</th>\n",
       "      <td>None</td>\n",
       "      <td>0.34</td>\n",
       "    </tr>\n",
       "    <tr>\n",
       "      <th>12</th>\n",
       "      <td>ADVB</td>\n",
       "      <td>9.54</td>\n",
       "    </tr>\n",
       "    <tr>\n",
       "      <th>13</th>\n",
       "      <td>PRTF</td>\n",
       "      <td>0.10</td>\n",
       "    </tr>\n",
       "    <tr>\n",
       "      <th>14</th>\n",
       "      <td>PRED</td>\n",
       "      <td>0.39</td>\n",
       "    </tr>\n",
       "    <tr>\n",
       "      <th>15</th>\n",
       "      <td>NUMR</td>\n",
       "      <td>0.39</td>\n",
       "    </tr>\n",
       "    <tr>\n",
       "      <th>16</th>\n",
       "      <td>VERB</td>\n",
       "      <td>15.55</td>\n",
       "    </tr>\n",
       "    <tr>\n",
       "      <th>17</th>\n",
       "      <td>NOUN</td>\n",
       "      <td>19.33</td>\n",
       "    </tr>\n",
       "  </tbody>\n",
       "</table>\n",
       "</div>"
      ],
      "text/plain": [
       "   Часть речи  Процент\n",
       "0        COMP     0.78\n",
       "1        PREP     7.36\n",
       "2        CONJ    13.71\n",
       "3        INTJ     0.92\n",
       "4        PRCL     8.48\n",
       "5        GRND     0.58\n",
       "6        ADJF     8.72\n",
       "7        PRTS     0.15\n",
       "8        ADJS     0.78\n",
       "9        INFN     3.25\n",
       "10       NPRO     9.64\n",
       "11       None     0.34\n",
       "12       ADVB     9.54\n",
       "13       PRTF     0.10\n",
       "14       PRED     0.39\n",
       "15       NUMR     0.39\n",
       "16       VERB    15.55\n",
       "17       NOUN    19.33"
      ]
     },
     "execution_count": 10,
     "metadata": {},
     "output_type": "execute_result"
    }
   ],
   "source": [
    "# Список, в который кладем части речи\n",
    "pos_list = []\n",
    "\n",
    "for word in new_text:\n",
    "    pos_list.append(morph.parse(word)[0].tag.POS)\n",
    "    \n",
    "# Подсчитываем количество для каждой части речи\n",
    "from collections import Counter\n",
    "pos_counts = dict(Counter(pos_list))\n",
    "\n",
    "# Переводим в проценты\n",
    "for value in pos_counts:\n",
    "    pos_counts[value] /= len(pos_list)\n",
    "    pos_counts[value] *= 100\n",
    "    pos_counts[value] = round(pos_counts[value], 2)\n",
    "\n",
    "# Вывод\n",
    "import pandas as pd\n",
    "pd.DataFrame(list(pos_counts.items()), columns=['Часть речи', 'Процент'])"
   ]
  },
  {
   "cell_type": "markdown",
   "metadata": {},
   "source": [
    "### &nbsp;&nbsp;&nbsp;&nbsp;&nbsp;&nbsp;5.4 Наиболее частотные падежи у существительных и прилагательных"
   ]
  },
  {
   "cell_type": "code",
   "execution_count": 11,
   "metadata": {},
   "outputs": [
    {
     "data": {
      "text/html": [
       "<div>\n",
       "<style>\n",
       "    .dataframe thead tr:only-child th {\n",
       "        text-align: right;\n",
       "    }\n",
       "\n",
       "    .dataframe thead th {\n",
       "        text-align: left;\n",
       "    }\n",
       "\n",
       "    .dataframe tbody tr th {\n",
       "        vertical-align: top;\n",
       "    }\n",
       "</style>\n",
       "<table border=\"1\" class=\"dataframe\">\n",
       "  <thead>\n",
       "    <tr style=\"text-align: right;\">\n",
       "      <th></th>\n",
       "      <th>Падеж</th>\n",
       "      <th>Частота</th>\n",
       "    </tr>\n",
       "  </thead>\n",
       "  <tbody>\n",
       "    <tr>\n",
       "      <th>0</th>\n",
       "      <td>datv</td>\n",
       "      <td>30</td>\n",
       "    </tr>\n",
       "    <tr>\n",
       "      <th>1</th>\n",
       "      <td>voct</td>\n",
       "      <td>2</td>\n",
       "    </tr>\n",
       "    <tr>\n",
       "      <th>2</th>\n",
       "      <td>loct</td>\n",
       "      <td>30</td>\n",
       "    </tr>\n",
       "    <tr>\n",
       "      <th>3</th>\n",
       "      <td>accs</td>\n",
       "      <td>60</td>\n",
       "    </tr>\n",
       "    <tr>\n",
       "      <th>4</th>\n",
       "      <td>gent</td>\n",
       "      <td>84</td>\n",
       "    </tr>\n",
       "    <tr>\n",
       "      <th>5</th>\n",
       "      <td>ablt</td>\n",
       "      <td>30</td>\n",
       "    </tr>\n",
       "    <tr>\n",
       "      <th>6</th>\n",
       "      <td>gen2</td>\n",
       "      <td>1</td>\n",
       "    </tr>\n",
       "    <tr>\n",
       "      <th>7</th>\n",
       "      <td>nomn</td>\n",
       "      <td>162</td>\n",
       "    </tr>\n",
       "  </tbody>\n",
       "</table>\n",
       "</div>"
      ],
      "text/plain": [
       "  Падеж  Частота\n",
       "0  datv       30\n",
       "1  voct        2\n",
       "2  loct       30\n",
       "3  accs       60\n",
       "4  gent       84\n",
       "5  ablt       30\n",
       "6  gen2        1\n",
       "7  nomn      162"
      ]
     },
     "execution_count": 11,
     "metadata": {},
     "output_type": "execute_result"
    }
   ],
   "source": [
    "# Список падежей у существительных\n",
    "case_noun = []\n",
    "\n",
    "# Заполняем список\n",
    "for word in new_text:\n",
    "    if morph.parse(word)[0].tag.POS == 'NOUN':\n",
    "        case_noun.append(morph.parse(word)[0].tag.case)\n",
    "        \n",
    "# Выводим частоты падежей у существительных\n",
    "pd.DataFrame(list(dict(Counter(case_noun)).items()), columns=['Падеж', 'Частота'])"
   ]
  },
  {
   "cell_type": "code",
   "execution_count": 12,
   "metadata": {},
   "outputs": [
    {
     "data": {
      "text/html": [
       "<div>\n",
       "<style>\n",
       "    .dataframe thead tr:only-child th {\n",
       "        text-align: right;\n",
       "    }\n",
       "\n",
       "    .dataframe thead th {\n",
       "        text-align: left;\n",
       "    }\n",
       "\n",
       "    .dataframe tbody tr th {\n",
       "        vertical-align: top;\n",
       "    }\n",
       "</style>\n",
       "<table border=\"1\" class=\"dataframe\">\n",
       "  <thead>\n",
       "    <tr style=\"text-align: right;\">\n",
       "      <th></th>\n",
       "      <th>Падеж</th>\n",
       "      <th>Частота</th>\n",
       "    </tr>\n",
       "  </thead>\n",
       "  <tbody>\n",
       "    <tr>\n",
       "      <th>0</th>\n",
       "      <td>accs</td>\n",
       "      <td>14</td>\n",
       "    </tr>\n",
       "    <tr>\n",
       "      <th>1</th>\n",
       "      <td>gent</td>\n",
       "      <td>36</td>\n",
       "    </tr>\n",
       "    <tr>\n",
       "      <th>2</th>\n",
       "      <td>None</td>\n",
       "      <td>16</td>\n",
       "    </tr>\n",
       "    <tr>\n",
       "      <th>3</th>\n",
       "      <td>datv</td>\n",
       "      <td>12</td>\n",
       "    </tr>\n",
       "    <tr>\n",
       "      <th>4</th>\n",
       "      <td>loct</td>\n",
       "      <td>12</td>\n",
       "    </tr>\n",
       "    <tr>\n",
       "      <th>5</th>\n",
       "      <td>ablt</td>\n",
       "      <td>9</td>\n",
       "    </tr>\n",
       "    <tr>\n",
       "      <th>6</th>\n",
       "      <td>nomn</td>\n",
       "      <td>97</td>\n",
       "    </tr>\n",
       "  </tbody>\n",
       "</table>\n",
       "</div>"
      ],
      "text/plain": [
       "  Падеж  Частота\n",
       "0  accs       14\n",
       "1  gent       36\n",
       "2  None       16\n",
       "3  datv       12\n",
       "4  loct       12\n",
       "5  ablt        9\n",
       "6  nomn       97"
      ]
     },
     "execution_count": 12,
     "metadata": {},
     "output_type": "execute_result"
    }
   ],
   "source": [
    "# Список падежей у прилагательных\n",
    "case_adj = []\n",
    "\n",
    "# Заполняем список\n",
    "for word in new_text:\n",
    "    if morph.parse(word)[0].tag.POS == 'ADJF' or morph.parse(word)[0].tag.POS == 'ADJS':\n",
    "        case_adj.append(morph.parse(word)[0].tag.case)\n",
    "        \n",
    "# Выводим частоты падежей у существительных\n",
    "pd.DataFrame(list(dict(Counter(case_adj)).items()), columns=['Падеж', 'Частота'])"
   ]
  },
  {
   "cell_type": "markdown",
   "metadata": {},
   "source": [
    "Видно, что самый распространенный падеж у существительных - родительный (gent), у прилагательных - именительный (nomn)"
   ]
  },
  {
   "cell_type": "markdown",
   "metadata": {},
   "source": [
    "### &nbsp;&nbsp;&nbsp;&nbsp;&nbsp;&nbsp;5.5 Относительная частота падежей"
   ]
  },
  {
   "cell_type": "code",
   "execution_count": 13,
   "metadata": {},
   "outputs": [
    {
     "data": {
      "text/html": [
       "<div>\n",
       "<style>\n",
       "    .dataframe thead tr:only-child th {\n",
       "        text-align: right;\n",
       "    }\n",
       "\n",
       "    .dataframe thead th {\n",
       "        text-align: left;\n",
       "    }\n",
       "\n",
       "    .dataframe tbody tr th {\n",
       "        vertical-align: top;\n",
       "    }\n",
       "</style>\n",
       "<table border=\"1\" class=\"dataframe\">\n",
       "  <thead>\n",
       "    <tr style=\"text-align: right;\">\n",
       "      <th></th>\n",
       "      <th>Падеж</th>\n",
       "      <th>Частота</th>\n",
       "    </tr>\n",
       "  </thead>\n",
       "  <tbody>\n",
       "    <tr>\n",
       "      <th>0</th>\n",
       "      <td>datv</td>\n",
       "      <td>0.030</td>\n",
       "    </tr>\n",
       "    <tr>\n",
       "      <th>1</th>\n",
       "      <td>voct</td>\n",
       "      <td>0.001</td>\n",
       "    </tr>\n",
       "    <tr>\n",
       "      <th>2</th>\n",
       "      <td>loct</td>\n",
       "      <td>0.024</td>\n",
       "    </tr>\n",
       "    <tr>\n",
       "      <th>3</th>\n",
       "      <td>ablt</td>\n",
       "      <td>0.021</td>\n",
       "    </tr>\n",
       "    <tr>\n",
       "      <th>4</th>\n",
       "      <td>accs</td>\n",
       "      <td>0.047</td>\n",
       "    </tr>\n",
       "    <tr>\n",
       "      <th>5</th>\n",
       "      <td>gent</td>\n",
       "      <td>0.069</td>\n",
       "    </tr>\n",
       "    <tr>\n",
       "      <th>6</th>\n",
       "      <td>None</td>\n",
       "      <td>0.618</td>\n",
       "    </tr>\n",
       "    <tr>\n",
       "      <th>7</th>\n",
       "      <td>gen2</td>\n",
       "      <td>0.000</td>\n",
       "    </tr>\n",
       "    <tr>\n",
       "      <th>8</th>\n",
       "      <td>nomn</td>\n",
       "      <td>0.190</td>\n",
       "    </tr>\n",
       "  </tbody>\n",
       "</table>\n",
       "</div>"
      ],
      "text/plain": [
       "  Падеж  Частота\n",
       "0  datv    0.030\n",
       "1  voct    0.001\n",
       "2  loct    0.024\n",
       "3  ablt    0.021\n",
       "4  accs    0.047\n",
       "5  gent    0.069\n",
       "6  None    0.618\n",
       "7  gen2    0.000\n",
       "8  nomn    0.190"
      ]
     },
     "execution_count": 13,
     "metadata": {},
     "output_type": "execute_result"
    }
   ],
   "source": [
    "# Список падежей\n",
    "cases = []\n",
    "for word in new_text:\n",
    "    cases.append(morph.parse(word)[0].tag.case)\n",
    "\n",
    "# Абсолютная частота падежей\n",
    "cases_count = pd.DataFrame(list(dict(Counter(cases)).items()), columns=['Падеж', 'Частота'])\n",
    "\n",
    "# Относительная частота падежей\n",
    "cases_count['Частота'] = cases_count['Частота'] / len(new_text)\n",
    "cases_count['Частота'] = round(cases_count['Частота'], 3)\n",
    "\n",
    "# Вывод\n",
    "cases_count"
   ]
  },
  {
   "cell_type": "markdown",
   "metadata": {},
   "source": [
    "### &nbsp;&nbsp;&nbsp;&nbsp;&nbsp;&nbsp;5.6 Наиболее частотные морфологические формы глаголов (время/лицо/число)"
   ]
  },
  {
   "cell_type": "code",
   "execution_count": 14,
   "metadata": {},
   "outputs": [
    {
     "name": "stdout",
     "output_type": "stream",
     "text": [
      "    Наиболее частотное время среди глаголов:  [('past', 192)]\n",
      "    Наиболее частотное лицо среди глаголов:  [(None, 282)]\n",
      "    Наиболее частотное число среди глаголов:  [('sing', 264)]\n"
     ]
    }
   ],
   "source": [
    "# Список чисел глаголов\n",
    "number_list = []\n",
    "\n",
    "# Список времен глаголов\n",
    "tense_list = []\n",
    "\n",
    "# Список лиц глаголов\n",
    "person_list = []\n",
    "\n",
    "# Заполняем списки\n",
    "for word in new_text:\n",
    "    if morph.parse(word)[0].tag.POS == 'VERB' or morph.parse(word)[0].tag.POS == 'INFN':\n",
    "        number_list.append(morph.parse(word)[0].tag.number)\n",
    "        tense_list.append(morph.parse(word)[0].tag.tense)\n",
    "        person_list.append(morph.parse(word)[0].tag.person)\n",
    "\n",
    "# Выводим наиболее частотное время среди глаголов\n",
    "print('    Наиболее частотное время среди глаголов: ', Counter(tense_list).most_common(1))\n",
    "\n",
    "# Выводим наиболее частотное лицо среди глаголов\n",
    "print('    Наиболее частотное лицо среди глаголов: ', Counter(person_list).most_common(1))\n",
    "\n",
    "# Выводим наиболее частотное число среди глаголов\n",
    "print('    Наиболее частотное число среди глаголов: ', Counter(number_list).most_common(1))"
   ]
  },
  {
   "cell_type": "markdown",
   "metadata": {},
   "source": [
    "## 6. Лексические характеристики"
   ]
  },
  {
   "cell_type": "markdown",
   "metadata": {},
   "source": [
    "### &nbsp;&nbsp;&nbsp;&nbsp;&nbsp;&nbsp;6.1 Количество уникальных лемм"
   ]
  },
  {
   "cell_type": "code",
   "execution_count": 15,
   "metadata": {},
   "outputs": [
    {
     "name": "stdout",
     "output_type": "stream",
     "text": [
      "    Кол-во уникальных лемм:  832\n"
     ]
    }
   ],
   "source": [
    "# Для начала лемматизируем все слова в нашем тексте. Используем pymorphy2\n",
    "\n",
    "# Список лемматизированных слов\n",
    "lemms = []\n",
    "\n",
    "# Заполняем его\n",
    "for word in new_text:\n",
    "    lemms.append(morph.parse(word)[0].normal_form)\n",
    "    \n",
    "# Выводим кол-во уникальных лемм\n",
    "print(\"    Кол-во уникальных лемм: \", len(set(lemms)))"
   ]
  },
  {
   "cell_type": "markdown",
   "metadata": {},
   "source": [
    "### &nbsp;&nbsp;&nbsp;&nbsp;&nbsp;&nbsp;6.2 Число уникальных лемм разных частей речи (существительных, глаголов и др.)"
   ]
  },
  {
   "cell_type": "code",
   "execution_count": 16,
   "metadata": {
    "scrolled": true
   },
   "outputs": [
    {
     "data": {
      "text/html": [
       "<div>\n",
       "<style>\n",
       "    .dataframe thead tr:only-child th {\n",
       "        text-align: right;\n",
       "    }\n",
       "\n",
       "    .dataframe thead th {\n",
       "        text-align: left;\n",
       "    }\n",
       "\n",
       "    .dataframe tbody tr th {\n",
       "        vertical-align: top;\n",
       "    }\n",
       "</style>\n",
       "<table border=\"1\" class=\"dataframe\">\n",
       "  <thead>\n",
       "    <tr style=\"text-align: right;\">\n",
       "      <th></th>\n",
       "      <th>Часть речи леммы</th>\n",
       "      <th>Частота</th>\n",
       "    </tr>\n",
       "  </thead>\n",
       "  <tbody>\n",
       "    <tr>\n",
       "      <th>0</th>\n",
       "      <td>PREP</td>\n",
       "      <td>21</td>\n",
       "    </tr>\n",
       "    <tr>\n",
       "      <th>1</th>\n",
       "      <td>INTJ</td>\n",
       "      <td>5</td>\n",
       "    </tr>\n",
       "    <tr>\n",
       "      <th>2</th>\n",
       "      <td>ADVB</td>\n",
       "      <td>102</td>\n",
       "    </tr>\n",
       "    <tr>\n",
       "      <th>3</th>\n",
       "      <td>PRCL</td>\n",
       "      <td>18</td>\n",
       "    </tr>\n",
       "    <tr>\n",
       "      <th>4</th>\n",
       "      <td>GRND</td>\n",
       "      <td>2</td>\n",
       "    </tr>\n",
       "    <tr>\n",
       "      <th>5</th>\n",
       "      <td>ADJF</td>\n",
       "      <td>109</td>\n",
       "    </tr>\n",
       "    <tr>\n",
       "      <th>6</th>\n",
       "      <td>ADJS</td>\n",
       "      <td>2</td>\n",
       "    </tr>\n",
       "    <tr>\n",
       "      <th>7</th>\n",
       "      <td>INFN</td>\n",
       "      <td>265</td>\n",
       "    </tr>\n",
       "    <tr>\n",
       "      <th>8</th>\n",
       "      <td>NPRO</td>\n",
       "      <td>13</td>\n",
       "    </tr>\n",
       "    <tr>\n",
       "      <th>9</th>\n",
       "      <td>None</td>\n",
       "      <td>6</td>\n",
       "    </tr>\n",
       "    <tr>\n",
       "      <th>10</th>\n",
       "      <td>CONJ</td>\n",
       "      <td>26</td>\n",
       "    </tr>\n",
       "    <tr>\n",
       "      <th>11</th>\n",
       "      <td>PRTF</td>\n",
       "      <td>1</td>\n",
       "    </tr>\n",
       "    <tr>\n",
       "      <th>12</th>\n",
       "      <td>PRED</td>\n",
       "      <td>3</td>\n",
       "    </tr>\n",
       "    <tr>\n",
       "      <th>13</th>\n",
       "      <td>NUMR</td>\n",
       "      <td>9</td>\n",
       "    </tr>\n",
       "    <tr>\n",
       "      <th>14</th>\n",
       "      <td>VERB</td>\n",
       "      <td>6</td>\n",
       "    </tr>\n",
       "    <tr>\n",
       "      <th>15</th>\n",
       "      <td>NOUN</td>\n",
       "      <td>244</td>\n",
       "    </tr>\n",
       "  </tbody>\n",
       "</table>\n",
       "</div>"
      ],
      "text/plain": [
       "   Часть речи леммы  Частота\n",
       "0              PREP       21\n",
       "1              INTJ        5\n",
       "2              ADVB      102\n",
       "3              PRCL       18\n",
       "4              GRND        2\n",
       "5              ADJF      109\n",
       "6              ADJS        2\n",
       "7              INFN      265\n",
       "8              NPRO       13\n",
       "9              None        6\n",
       "10             CONJ       26\n",
       "11             PRTF        1\n",
       "12             PRED        3\n",
       "13             NUMR        9\n",
       "14             VERB        6\n",
       "15             NOUN      244"
      ]
     },
     "execution_count": 16,
     "metadata": {},
     "output_type": "execute_result"
    }
   ],
   "source": [
    "# Части речи уникальных лемм\n",
    "lemms_pos_list = []\n",
    "\n",
    "# Заполняем список\n",
    "for lemma in set(lemms):\n",
    "    lemms_pos_list.append(morph.parse(lemma)[0].tag.POS)\n",
    "\n",
    "# Вывод\n",
    "pd.DataFrame(list(dict(Counter(lemms_pos_list)).items()), columns=['Часть речи леммы', 'Частота'])"
   ]
  },
  {
   "cell_type": "markdown",
   "metadata": {},
   "source": [
    "### &nbsp;&nbsp;&nbsp;&nbsp;&nbsp;&nbsp;6.3 Число незнакомых слов"
   ]
  },
  {
   "cell_type": "code",
   "execution_count": 17,
   "metadata": {},
   "outputs": [
    {
     "name": "stdout",
     "output_type": "stream",
     "text": [
      "    Число незнакомых слов:  9\n"
     ]
    }
   ],
   "source": [
    "# Ищем по принципу: \"не можем определить часть речи - слово незнакомо pymorphy2\"\n",
    "\n",
    "# Счетчик\n",
    "unknown_words = 0\n",
    "\n",
    "# Считаем\n",
    "for lemma in lemms:\n",
    "    if morph.parse(lemma)[0].tag.POS == None:\n",
    "        unknown_words += 1\n",
    "# Вывод\n",
    "print('    Число незнакомых слов: ', unknown_words)"
   ]
  },
  {
   "cell_type": "markdown",
   "metadata": {},
   "source": [
    "### &nbsp;&nbsp;&nbsp;&nbsp;&nbsp;&nbsp;6.4 Самые частотные слова и их относительная частота"
   ]
  },
  {
   "cell_type": "code",
   "execution_count": 18,
   "metadata": {},
   "outputs": [
    {
     "data": {
      "text/plain": [
       "[('как', 23),\n",
       " ('так', 24),\n",
       " ('а', 33),\n",
       " ('что', 36),\n",
       " ('алиса', 36),\n",
       " ('в', 41),\n",
       " ('я', 42),\n",
       " ('она', 53),\n",
       " ('не', 60),\n",
       " ('и', 92)]"
      ]
     },
     "execution_count": 18,
     "metadata": {},
     "output_type": "execute_result"
    }
   ],
   "source": [
    "# Самые частотные слова, топ-10\n",
    "\n",
    "words_dict = dict(Counter(new_text))\n",
    "frequent_words = sorted(words_dict.items(), key=lambda x: x[1])[-10:]\n",
    "frequent_words"
   ]
  },
  {
   "cell_type": "code",
   "execution_count": 19,
   "metadata": {},
   "outputs": [
    {
     "data": {
      "text/plain": [
       "[('знаю', 5),\n",
       " ('такая', 5),\n",
       " ('подумала', 7),\n",
       " ('буду', 7),\n",
       " ('сказала', 10),\n",
       " ('наверное', 11),\n",
       " ('ой', 15),\n",
       " ('мышь', 16),\n",
       " ('это', 21),\n",
       " ('алиса', 36)]"
      ]
     },
     "execution_count": 19,
     "metadata": {},
     "output_type": "execute_result"
    }
   ],
   "source": [
    "# Самые частотные слова без учета стоп-слов, топ-10\n",
    "\n",
    "# Достаем стоп-слова из NLTK\n",
    "from nltk.corpus import stopwords\n",
    "stop_words = set(stopwords.words('russian'))\n",
    "\n",
    "# Создаем новый словарь (слово - счетчик) без учета стоп-слов\n",
    "keys = []\n",
    "values = []\n",
    "\n",
    "for pair in sorted(words_dict.items(), key=lambda x: x[1]):\n",
    "    if pair[0] not in stop_words:\n",
    "        keys.append(pair[0])\n",
    "        values.append(pair[1])\n",
    "\n",
    "new_dict = dict(zip(keys, values))\n",
    "\n",
    "\n",
    "# Вывод\n",
    "sorted(new_dict.items(), key=lambda x: x[1])[-10:]"
   ]
  },
  {
   "cell_type": "code",
   "execution_count": 20,
   "metadata": {},
   "outputs": [
    {
     "name": "stdout",
     "output_type": "stream",
     "text": [
      "' как '   0.011\n",
      "' так '   0.012\n",
      "' а '   0.016\n",
      "' что '   0.017\n",
      "' алиса '   0.017\n",
      "' в '   0.02\n",
      "' я '   0.02\n",
      "' она '   0.026\n",
      "' не '   0.029\n",
      "' и '   0.045\n"
     ]
    }
   ],
   "source": [
    "# Относительная частота топ-10\n",
    "\n",
    "for pair in frequent_words:\n",
    "    x = pair[1]\n",
    "    x /= len(new_text)\n",
    "    print(\"'\", pair[0], \"'\", ' ', round(x, 3))"
   ]
  },
  {
   "cell_type": "code",
   "execution_count": 21,
   "metadata": {},
   "outputs": [
    {
     "name": "stdout",
     "output_type": "stream",
     "text": [
      "' знаю '   0.002\n",
      "' такая '   0.002\n",
      "' подумала '   0.003\n",
      "' буду '   0.003\n",
      "' сказала '   0.005\n",
      "' наверное '   0.005\n",
      "' ой '   0.007\n",
      "' мышь '   0.008\n",
      "' это '   0.01\n",
      "' алиса '   0.017\n"
     ]
    }
   ],
   "source": [
    "# Относительная частота топ-10 без стоп-слов\n",
    "\n",
    "for pair in sorted(new_dict.items(), key=lambda x: x[1])[-10:]:\n",
    "    x = pair[1]\n",
    "    x /= len(new_text)\n",
    "    print(\"'\", pair[0], \"'\", ' ', round(x, 3))"
   ]
  },
  {
   "cell_type": "markdown",
   "metadata": {},
   "source": [
    "### &nbsp;&nbsp;&nbsp;&nbsp;&nbsp;&nbsp;6.5 Самые частотные слова основных частей речи (существительные, прилагательные, наречия, глаголы)"
   ]
  },
  {
   "cell_type": "code",
   "execution_count": 22,
   "metadata": {},
   "outputs": [
    {
     "data": {
      "text/html": [
       "<div>\n",
       "<style>\n",
       "    .dataframe thead tr:only-child th {\n",
       "        text-align: right;\n",
       "    }\n",
       "\n",
       "    .dataframe thead th {\n",
       "        text-align: left;\n",
       "    }\n",
       "\n",
       "    .dataframe tbody tr th {\n",
       "        vertical-align: top;\n",
       "    }\n",
       "</style>\n",
       "<table border=\"1\" class=\"dataframe\">\n",
       "  <thead>\n",
       "    <tr style=\"text-align: right;\">\n",
       "      <th></th>\n",
       "      <th>Слова</th>\n",
       "    </tr>\n",
       "    <tr>\n",
       "      <th>Часть речи</th>\n",
       "      <th></th>\n",
       "    </tr>\n",
       "  </thead>\n",
       "  <tbody>\n",
       "    <tr>\n",
       "      <th>ADJF</th>\n",
       "      <td>[вторая, которой, все, обыкновенных, свои, под...</td>\n",
       "    </tr>\n",
       "    <tr>\n",
       "      <th>ADJS</th>\n",
       "      <td>[алисин, оназдорово, должна, готова, когоугодн...</td>\n",
       "    </tr>\n",
       "    <tr>\n",
       "      <th>ADVB</th>\n",
       "      <td>[уже, теперь, уже, где, далеко, далеко, внизу,...</td>\n",
       "    </tr>\n",
       "    <tr>\n",
       "      <th>COMP</th>\n",
       "      <td>[поближе, лучше, лучше, глазаее, попроворней, ...</td>\n",
       "    </tr>\n",
       "    <tr>\n",
       "      <th>CONJ</th>\n",
       "      <td>[и, что, и, то, что, а, то, и, и, то, как, так...</td>\n",
       "    </tr>\n",
       "    <tr>\n",
       "      <th>GRND</th>\n",
       "      <td>[выронив, теперьтакая, обнаружив, замечая, хле...</td>\n",
       "    </tr>\n",
       "    <tr>\n",
       "      <th>INFN</th>\n",
       "      <td>[началапридумывать, надевать, обуваться, ссори...</td>\n",
       "    </tr>\n",
       "    <tr>\n",
       "      <th>INTJ</th>\n",
       "      <td>[ой, ой, ой, ой, ой, ой, ой, ой, ой, ой, ой, а...</td>\n",
       "    </tr>\n",
       "    <tr>\n",
       "      <th>NOUN</th>\n",
       "      <td>[глава, алиса, слезах, алиса, втаком, изумлени...</td>\n",
       "    </tr>\n",
       "    <tr>\n",
       "      <th>NPRO</th>\n",
       "      <td>[она, ей, она, меня, она, кто, вас, я, вы, себ...</td>\n",
       "    </tr>\n",
       "    <tr>\n",
       "      <th>NUMR</th>\n",
       "      <td>[пять, двенадцать, шесть, тринадцать, семь, дв...</td>\n",
       "    </tr>\n",
       "    <tr>\n",
       "      <th>PRCL</th>\n",
       "      <td>[не, не, это, же, никак, не, ну, это, не, еще,...</td>\n",
       "    </tr>\n",
       "    <tr>\n",
       "      <th>PRED</th>\n",
       "      <td>[нет, надо, нет, нет, некуда, нет, надо, нет]</td>\n",
       "    </tr>\n",
       "    <tr>\n",
       "      <th>PREP</th>\n",
       "      <td>[в, в, из, на, на, с, о, с, на, над, по, по, с...</td>\n",
       "    </tr>\n",
       "    <tr>\n",
       "      <th>PRTF</th>\n",
       "      <td>[ужаленный, дажевымершая]</td>\n",
       "    </tr>\n",
       "    <tr>\n",
       "      <th>PRTS</th>\n",
       "      <td>[сильнонапугана, написано, написано]</td>\n",
       "    </tr>\n",
       "    <tr>\n",
       "      <th>VERB</th>\n",
       "      <td>[купается, чудесится, чудесится, закричала, бы...</td>\n",
       "    </tr>\n",
       "  </tbody>\n",
       "</table>\n",
       "</div>"
      ],
      "text/plain": [
       "                                                        Слова\n",
       "Часть речи                                                   \n",
       "ADJF        [вторая, которой, все, обыкновенных, свои, под...\n",
       "ADJS        [алисин, оназдорово, должна, готова, когоугодн...\n",
       "ADVB        [уже, теперь, уже, где, далеко, далеко, внизу,...\n",
       "COMP        [поближе, лучше, лучше, глазаее, попроворней, ...\n",
       "CONJ        [и, что, и, то, что, а, то, и, и, то, как, так...\n",
       "GRND        [выронив, теперьтакая, обнаружив, замечая, хле...\n",
       "INFN        [началапридумывать, надевать, обуваться, ссори...\n",
       "INTJ        [ой, ой, ой, ой, ой, ой, ой, ой, ой, ой, ой, а...\n",
       "NOUN        [глава, алиса, слезах, алиса, втаком, изумлени...\n",
       "NPRO        [она, ей, она, меня, она, кто, вас, я, вы, себ...\n",
       "NUMR        [пять, двенадцать, шесть, тринадцать, семь, дв...\n",
       "PRCL        [не, не, это, же, никак, не, ну, это, не, еще,...\n",
       "PRED            [нет, надо, нет, нет, некуда, нет, надо, нет]\n",
       "PREP        [в, в, из, на, на, с, о, с, на, над, по, по, с...\n",
       "PRTF                                [ужаленный, дажевымершая]\n",
       "PRTS                     [сильнонапугана, написано, написано]\n",
       "VERB        [купается, чудесится, чудесится, закричала, бы..."
      ]
     },
     "execution_count": 22,
     "metadata": {},
     "output_type": "execute_result"
    }
   ],
   "source": [
    "pos_list, new_text\n",
    "\n",
    "# Табица - часть речи/слова\n",
    "pos_word_df = pd.DataFrame({'Часть речи': pos_list, 'Слова': new_text})\n",
    "pos_word_df = pos_word_df.groupby(by = 'Часть речи')['Слова'].apply(list)\n",
    "pos_word_df = pos_word_df.to_frame()\n",
    "pos_word_df"
   ]
  },
  {
   "cell_type": "code",
   "execution_count": 23,
   "metadata": {},
   "outputs": [
    {
     "data": {
      "text/html": [
       "<div>\n",
       "<style>\n",
       "    .dataframe thead tr:only-child th {\n",
       "        text-align: right;\n",
       "    }\n",
       "\n",
       "    .dataframe thead th {\n",
       "        text-align: left;\n",
       "    }\n",
       "\n",
       "    .dataframe tbody tr th {\n",
       "        vertical-align: top;\n",
       "    }\n",
       "</style>\n",
       "<table border=\"1\" class=\"dataframe\">\n",
       "  <thead>\n",
       "    <tr style=\"text-align: right;\">\n",
       "      <th></th>\n",
       "      <th>Слова</th>\n",
       "    </tr>\n",
       "    <tr>\n",
       "      <th>Часть речи</th>\n",
       "      <th></th>\n",
       "    </tr>\n",
       "  </thead>\n",
       "  <tbody>\n",
       "    <tr>\n",
       "      <th>ADJF</th>\n",
       "      <td>все</td>\n",
       "    </tr>\n",
       "    <tr>\n",
       "      <th>ADJS</th>\n",
       "      <td>додо</td>\n",
       "    </tr>\n",
       "    <tr>\n",
       "      <th>ADVB</th>\n",
       "      <td>наверное</td>\n",
       "    </tr>\n",
       "    <tr>\n",
       "      <th>COMP</th>\n",
       "      <td>лучше</td>\n",
       "    </tr>\n",
       "    <tr>\n",
       "      <th>CONJ</th>\n",
       "      <td>и</td>\n",
       "    </tr>\n",
       "    <tr>\n",
       "      <th>GRND</th>\n",
       "      <td>хлебнув</td>\n",
       "    </tr>\n",
       "    <tr>\n",
       "      <th>INFN</th>\n",
       "      <td>быть</td>\n",
       "    </tr>\n",
       "    <tr>\n",
       "      <th>INTJ</th>\n",
       "      <td>ой</td>\n",
       "    </tr>\n",
       "    <tr>\n",
       "      <th>NOUN</th>\n",
       "      <td>алиса</td>\n",
       "    </tr>\n",
       "    <tr>\n",
       "      <th>NPRO</th>\n",
       "      <td>она</td>\n",
       "    </tr>\n",
       "    <tr>\n",
       "      <th>NUMR</th>\n",
       "      <td>шесть</td>\n",
       "    </tr>\n",
       "    <tr>\n",
       "      <th>PRCL</th>\n",
       "      <td>не</td>\n",
       "    </tr>\n",
       "    <tr>\n",
       "      <th>PRED</th>\n",
       "      <td>нет</td>\n",
       "    </tr>\n",
       "    <tr>\n",
       "      <th>PREP</th>\n",
       "      <td>в</td>\n",
       "    </tr>\n",
       "    <tr>\n",
       "      <th>PRTF</th>\n",
       "      <td>дажевымершая</td>\n",
       "    </tr>\n",
       "    <tr>\n",
       "      <th>PRTS</th>\n",
       "      <td>написано</td>\n",
       "    </tr>\n",
       "    <tr>\n",
       "      <th>VERB</th>\n",
       "      <td>было</td>\n",
       "    </tr>\n",
       "  </tbody>\n",
       "</table>\n",
       "</div>"
      ],
      "text/plain": [
       "                   Слова\n",
       "Часть речи              \n",
       "ADJF                 все\n",
       "ADJS                додо\n",
       "ADVB            наверное\n",
       "COMP               лучше\n",
       "CONJ                   и\n",
       "GRND             хлебнув\n",
       "INFN                быть\n",
       "INTJ                  ой\n",
       "NOUN               алиса\n",
       "NPRO                 она\n",
       "NUMR               шесть\n",
       "PRCL                  не\n",
       "PRED                 нет\n",
       "PREP                   в\n",
       "PRTF        дажевымершая\n",
       "PRTS            написано\n",
       "VERB                было"
      ]
     },
     "execution_count": 23,
     "metadata": {},
     "output_type": "execute_result"
    }
   ],
   "source": [
    "# Оставляем самое частотное слово в правой колонке\n",
    "\n",
    "pos_word_df['Слова'] = pos_word_df['Слова'].apply(lambda ls: nltk.FreqDist(ls).max())\n",
    "pos_word_df"
   ]
  },
  {
   "cell_type": "markdown",
   "metadata": {},
   "source": [
    "### &nbsp;&nbsp;&nbsp;&nbsp;&nbsp;&nbsp;6.6 Коэффициент лексического богатства текста"
   ]
  },
  {
   "cell_type": "code",
   "execution_count": 24,
   "metadata": {},
   "outputs": [
    {
     "name": "stdout",
     "output_type": "stream",
     "text": [
      "    Коэффициент лексического богатства текста:  0.403\n"
     ]
    }
   ],
   "source": [
    "# Отношение числа различных лемм к общему числу словоупотреблений\n",
    "print('    Коэффициент лексического богатства текста: ', round(len(set(lemms))/len(new_text), 3) )"
   ]
  }
 ],
 "metadata": {
  "kernelspec": {
   "display_name": "Python [conda root]",
   "language": "python",
   "name": "conda-root-py"
  },
  "language_info": {
   "codemirror_mode": {
    "name": "ipython",
    "version": 3
   },
   "file_extension": ".py",
   "mimetype": "text/x-python",
   "name": "python",
   "nbconvert_exporter": "python",
   "pygments_lexer": "ipython3",
   "version": "3.5.3"
  }
 },
 "nbformat": 4,
 "nbformat_minor": 2
}
